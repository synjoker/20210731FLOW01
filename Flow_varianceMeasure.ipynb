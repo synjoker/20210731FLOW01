{
 "cells": [
  {
   "cell_type": "code",
   "execution_count": 7,
   "metadata": {},
   "outputs": [
    {
     "name": "stdout",
     "output_type": "stream",
     "text": [
      "import success!\n"
     ]
    }
   ],
   "source": [
    "#Flow\n",
    "# problems: 1. video lag 2. stream end 3. anti-shake 4. simulation of the method \n",
    "# refresh parameters 1. change in 'parameters.ini' 2. press 'r'\n",
    "# to do log information, max position and angle, average angle\n",
    "import numpy as np \n",
    "import cv2 as cv\n",
    "from numpy.core.numeric import zeros_like\n",
    "import colorsys\n",
    "from vidgear.gears import VideoGear\n",
    "import datetime\n",
    "import os\n",
    "import csv\n",
    "\n",
    "\n",
    "print(\"import success!\")"
   ]
  },
  {
   "cell_type": "code",
   "execution_count": 8,
   "metadata": {},
   "outputs": [
    {
     "name": "stdout",
     "output_type": "stream",
     "text": [
      "initiation success\n"
     ]
    }
   ],
   "source": [
    "# 注意winsize、roi_region、结构的大小比例、结构的密度、结构和winsize的比例\n",
    "\n",
    "# hsv transform to rgb format\n",
    "def hsv2rgb(h,s,v):\n",
    "    return tuple(round(i * 255) for i in colorsys.hsv_to_rgb(h,s,v))\n",
    "\n",
    "#control parameters\n",
    "is_save_stream = False\n",
    "is_ref_refresh = False\n",
    "is_anti_shake = False\n",
    "\n",
    "# default parameters  \n",
    "# calculation parameters\n",
    "winsize = 64\n",
    "mag_ceiling = 0.5\n",
    "mag_floor = mag_ceiling/5\n",
    "\n",
    "# camer & image parameters\n",
    "alpha = 0.8 \n",
    "hue = 90                     \n",
    "RES = (2592, 1944)                 # camera resolution\n",
    "# RES = (1920, 1080)\n",
    "# roi_rect = [0, RES[0], 0, RES[1]]\n",
    "roi_rect = [0+100,RES[0]-100,0+100,RES[1]-100]  # region of interesting\n",
    "# roi_rect = [int(RES[0]*0.4), int(RES[0]*0.6), int(RES[1]*0.4), int(RES[1]*0.6)]\n",
    "\n",
    "result_RES = (640, 480)         # flow image resolution\n",
    "\n",
    "# stable calculation parameters\n",
    "pyr_scale = 0.5\n",
    "levels = 2\n",
    "iterations = 1\n",
    "poly_n = 5\n",
    "poly_sigma = 1.1\n",
    "flags = cv.OPTFLOW_FARNEBACK_GAUSSIAN\n",
    "\n",
    "# drawing buffer\n",
    "ax = []\n",
    "ay1 = []\n",
    "ay2 = []\n",
    "\n",
    "# formatting parameters as dictionary attributes\n",
    "options = {\"CAP_PROP_FRAME_WIDTH\":2592, \"CAP_PROP_FRAME_HEIGHT\":1944, \"CAP_PROP_FPS\":30}\n",
    "\n",
    "print(\"initiation success\")"
   ]
  },
  {
   "cell_type": "code",
   "execution_count": 9,
   "metadata": {},
   "outputs": [
    {
     "name": "stdout",
     "output_type": "stream",
     "text": [
      "stream start!\n",
      "begin stream!\n"
     ]
    }
   ],
   "source": [
    "# 水平噪声、数值噪声\n",
    "# stream = VideoGear(source=1, resolution=RES, stabilize = True).start()\n",
    "stream = VideoGear(source=1, resolution=RES, stabilize = True, **options).start()\n",
    "\n",
    "print(\"stream start!\")\n",
    "\n",
    "# pre-read frame\n",
    "frame_pre = stream.read()\n",
    "bgr_pre = cv.cvtColor(frame_pre, cv.COLOR_BGR2GRAY)\n",
    "\n",
    "# initial hsv\n",
    "hsv = np.zeros_like(frame_pre[roi_rect[2]:roi_rect[3],roi_rect[0]:roi_rect[1]])  \n",
    "hsv[...,1] = 255 #saturation is full\n",
    "blank = np.zeros_like(frame_pre)\n",
    "\n",
    "# video loop\n",
    "count = 0\n",
    "print(\"begin stream!\")\n"
   ]
  },
  {
   "cell_type": "code",
   "execution_count": 10,
   "metadata": {},
   "outputs": [
    {
     "name": "stdout",
     "output_type": "stream",
     "text": [
      "hsv shape is  (1744, 2392, 3)\n",
      "bgr_gre shape is  (1944, 2592)\n",
      "video resolution is (height, width, channel) :  (1944, 2592, 3)\n",
      "roi_rect is  [100, 2492, 100, 1844]\n"
     ]
    }
   ],
   "source": [
    "# 测试区\n",
    "print(\"hsv shape is \", hsv.shape)\n",
    "print(\"bgr_gre shape is \", bgr_pre.shape)\n",
    "print(\"video resolution is (height, width, channel) : \",frame_pre.shape)\n",
    "print(\"roi_rect is \", roi_rect)\n",
    "\n",
    "# 光流算法、PIV算法原理"
   ]
  },
  {
   "cell_type": "code",
   "execution_count": 11,
   "metadata": {},
   "outputs": [
    {
     "ename": "KeyboardInterrupt",
     "evalue": "",
     "output_type": "error",
     "traceback": [
      "\u001b[1;31m---------------------------------------------------------------------------\u001b[0m",
      "\u001b[1;31mKeyboardInterrupt\u001b[0m                         Traceback (most recent call last)",
      "\u001b[1;32m~\\AppData\\Local\\Temp/ipykernel_139932/2096109064.py\u001b[0m in \u001b[0;36m<module>\u001b[1;34m\u001b[0m\n\u001b[0;32m     48\u001b[0m       \u001b[0mmag_norm\u001b[0m \u001b[1;33m=\u001b[0m \u001b[0mcv\u001b[0m\u001b[1;33m.\u001b[0m\u001b[0mnormalize\u001b[0m\u001b[1;33m(\u001b[0m\u001b[0mmag\u001b[0m\u001b[1;33m,\u001b[0m\u001b[1;32mNone\u001b[0m\u001b[1;33m,\u001b[0m\u001b[1;36m0\u001b[0m\u001b[1;33m,\u001b[0m\u001b[1;36m255\u001b[0m\u001b[1;33m,\u001b[0m\u001b[0mcv\u001b[0m\u001b[1;33m.\u001b[0m\u001b[0mNORM_MINMAX\u001b[0m\u001b[1;33m)\u001b[0m\u001b[1;33m\u001b[0m\u001b[1;33m\u001b[0m\u001b[0m\n\u001b[0;32m     49\u001b[0m       \u001b[0mmag_min\u001b[0m\u001b[1;33m,\u001b[0m\u001b[0mmag_max\u001b[0m\u001b[1;33m,\u001b[0m\u001b[0mmin_indx\u001b[0m\u001b[1;33m,\u001b[0m\u001b[0mmax_indx\u001b[0m\u001b[1;33m=\u001b[0m\u001b[0mcv\u001b[0m\u001b[1;33m.\u001b[0m\u001b[0mminMaxLoc\u001b[0m\u001b[1;33m(\u001b[0m\u001b[0mmag\u001b[0m\u001b[1;33m)\u001b[0m\u001b[1;33m\u001b[0m\u001b[1;33m\u001b[0m\u001b[0m\n\u001b[1;32m---> 50\u001b[1;33m       \u001b[0mang_mean\u001b[0m \u001b[1;33m=\u001b[0m \u001b[0mcv\u001b[0m\u001b[1;33m.\u001b[0m\u001b[0mmean\u001b[0m\u001b[1;33m(\u001b[0m\u001b[0mang\u001b[0m\u001b[1;33m*\u001b[0m\u001b[0mmag\u001b[0m\u001b[1;33m/\u001b[0m\u001b[0mmag_mean\u001b[0m\u001b[1;33m)\u001b[0m\u001b[1;33m[\u001b[0m\u001b[1;36m0\u001b[0m\u001b[1;33m]\u001b[0m\u001b[1;33m\u001b[0m\u001b[1;33m\u001b[0m\u001b[0m\n\u001b[0m\u001b[0;32m     51\u001b[0m \u001b[1;33m\u001b[0m\u001b[0m\n\u001b[0;32m     52\u001b[0m       \u001b[1;31m# 计算水平噪声和竖直噪声\u001b[0m\u001b[1;33m\u001b[0m\u001b[1;33m\u001b[0m\u001b[1;33m\u001b[0m\u001b[0m\n",
      "\u001b[1;31mKeyboardInterrupt\u001b[0m: "
     ]
    }
   ],
   "source": [
    "# 程序执行区域\n",
    "timeNow = datetime.datetime.now().strftime(\"%Y%m%d_%H%M%S\")\n",
    "os.makedirs(\"tVariance_\" + timeNow)\n",
    "with open(\"tVariance_\" + timeNow + '/Variance.csv','w',newline='')as csv_file:\n",
    "  while(True):\n",
    "  # read current frame from cap\n",
    "      frame_cur = stream.read()\n",
    "      bgr_cur = cv.cvtColor(frame_cur, cv.COLOR_BGR2GRAY) # change in to gray\n",
    "\n",
    "      roi_bgr_pre = bgr_pre[roi_rect[2]:roi_rect[3],roi_rect[0]:roi_rect[1]]\n",
    "      roi_bgr_cur = bgr_cur[roi_rect[2]:roi_rect[3],roi_rect[0]:roi_rect[1]]\n",
    "\n",
    "      # calculate flow\n",
    "      flow = cv.calcOpticalFlowFarneback(roi_bgr_pre,roi_bgr_cur, None,\n",
    "                                      pyr_scale,\n",
    "                                      levels,\n",
    "                                      winsize,\n",
    "                                      iterations,\n",
    "                                      poly_n,\n",
    "                                      poly_sigma,\n",
    "                                      flags)\n",
    "      mag, ang = cv.cartToPolar(flow[...,0], flow[...,1])  # orginal flow\n",
    "    \n",
    "      mag_mean = cv.mean(mag)[0]\n",
    "      mag_sft = abs(mag - mag_mean)  # shifted magnitude to elimiate noise\n",
    "      hsv[...,0] = (ang + hue)*180/np.pi/2 # color space related to angle \n",
    "      hsv[...,2] = cv.normalize(mag_sft,None,0,255,cv.NORM_MINMAX) \n",
    "      \n",
    "      #enhanced flow\n",
    "      bgr_flow = cv.cvtColor(hsv,cv.COLOR_HSV2BGR)\n",
    "      mag_enhanced = zeros_like(mag_sft)\n",
    "      cv.min(mag_sft,mag_ceiling,mag_enhanced)  # enhance flow, ceiling and flooring\n",
    "      cv.max(mag_enhanced,mag_floor,mag_enhanced)\n",
    "      hsv[...,0] = (ang + hue)*180/np.pi/2 # color space related to angle \n",
    "      hsv[...,2] = cv.normalize(mag_enhanced,None,0,255,cv.NORM_MINMAX)\n",
    "      bgr_flow_enhanced = cv.cvtColor(hsv,cv.COLOR_HSV2BGR)\n",
    "      \n",
    "      # image emerge with enhanced flow\n",
    "      flow_blend_enhance = cv.addWeighted(frame_cur[roi_rect[2]:roi_rect[3],roi_rect[0]:roi_rect[1]], 1-alpha ,bgr_flow_enhanced,  alpha, 0)\n",
    "      bgr_blend = cv.addWeighted(frame_cur[roi_rect[2]:roi_rect[3],roi_rect[0]:roi_rect[1]], 1-alpha ,bgr_flow,  alpha, 0)\n",
    "      frame_blend = cv.addWeighted(frame_cur, 1-alpha ,blank,  alpha, 0)#frame_cur.copy()\n",
    "      frame_blend[roi_rect[2]:roi_rect[3],roi_rect[0]:roi_rect[1]] = flow_blend_enhance\n",
    "\n",
    "      # if ture, compare image is  successive; if false, compare image is not change\n",
    "      if is_ref_refresh:\n",
    "        bgr_pre = bgr_cur\n",
    "    \n",
    "      #palette\n",
    "      palette=np.zeros((512,512,3),np.uint8)\n",
    "      mag_norm = cv.normalize(mag,None,0,255,cv.NORM_MINMAX)\n",
    "      mag_min,mag_max,min_indx,max_indx=cv.minMaxLoc(mag)\n",
    "      ang_mean = cv.mean(ang*mag/mag_mean)[0]\n",
    "\n",
    "      # 计算水平噪声和竖直噪声\n",
    "      hor_Noise = np.average(np.multiply(mag, np.sin(ang)))\n",
    "      ver_Noise = np.average(np.multiply(mag, np.cos(ang)))\n",
    "      # 绝对值计算水平噪声和竖直噪声\n",
    "      hor_AbsNoise = np.average(np.abs(np.multiply(mag, np.sin(ang))))\n",
    "      ver_AbsNoise = np.average(np.abs(np.multiply(mag, np.cos(ang))))\n",
    "\n",
    "\n",
    "      cv.putText(palette, \"max=\"+str(mag.max()), (0, 30), cv.FONT_HERSHEY_SIMPLEX, 1.2, (255, 255, 255), 2)\n",
    "      cv.putText(palette, \"mag_mean=\"+str(\"%.2f\"%mag_mean), (0, 60), cv.FONT_HERSHEY_SIMPLEX, 1.2, (255, 255, 255), 2)\n",
    "      cv.putText(palette, \"mag_max=\"+str(mag_max), (0, 90), cv.FONT_HERSHEY_SIMPLEX, 1.2, (255, 255, 255), 2)\n",
    "      cv.putText(palette, \"mag_min=\"+str(mag_min), (0, 120), cv.FONT_HERSHEY_SIMPLEX, 1.2, (255, 255, 255), 2)\n",
    "      cv.putText(palette, \"hor_Noise=\"+str(hor_Noise), (0, 150), cv.FONT_HERSHEY_SIMPLEX, 1.2, (255, 255, 255), 2)\n",
    "      cv.putText(palette, \"ver_Noise=\"+str(ver_Noise), (0, 180), cv.FONT_HERSHEY_SIMPLEX, 1.2, (255, 255, 255), 2)\n",
    "      cv.putText(palette, \"hor_AbsNoise=\"+str(hor_AbsNoise), (0, 210), cv.FONT_HERSHEY_SIMPLEX, 1.2, (255, 255, 255), 2)\n",
    "      cv.putText(palette, \"ver_AbsNoise=\"+str(ver_AbsNoise), (0, 240), cv.FONT_HERSHEY_SIMPLEX, 1.2, (255, 255, 255), 2)\n",
    "\n",
    "      timeNow1 = datetime.datetime.now().strftime(\"%Y%m%d_%H%M%S\")\n",
    "      # max min min variance \n",
    "      # 获取一个csv对象进行内容写入\n",
    "      writer=csv.writer(csv_file)\n",
    "      # writerow 写入一行数据\n",
    "      writeDatum = [timeNow1, mag_mean, mag_max, mag_min, hor_Noise, ver_Noise, hor_AbsNoise, ver_AbsNoise]\n",
    "      writer.writerow(writeDatum)\n",
    "\n",
    "      count = count + 1\n",
    "  \n",
    "      # result flow image\n",
    "      cv.imshow('Orignal',cv.resize(frame_cur, (result_RES[0], result_RES[1])))\n",
    "      cv.imshow(\"Palette\", palette)\n",
    "      cv.imshow('Blender', cv.resize(bgr_blend , (result_RES[0], result_RES[1])))\n",
    "      cv.imshow('Area of Intrest Blended', cv.resize(frame_blend  , (result_RES[0], result_RES[1])))\n",
    "      \n",
    "      key = cv.waitKey(10)\n",
    "      if key==114: # if input key 'r', refresh compare image\n",
    "          #打印时间戳保存\n",
    "          timeNow1 = datetime.datetime.now().strftime(\"%Y%m%d_%H%M%S\")\n",
    "          os.makedirs(\"Refresh_\" + timeNow1)\n",
    "          bgr_pre = bgr_cur\n",
    "          # cv.imwrite(timeNow +'/Orignal.jpg',frame_cur)\n",
    "          # cv.imwrite(timeNow +'/Area_of_Intrest_Blended.jpg', frame_blend)\n",
    "          cv.imwrite(timeNow1 +\"/Palette.jpg\", palette)\n",
    "          cv.imwrite(timeNow1 +'/Blender.jpg', bgr_blend)\n",
    "          print(\"the image is refreshed\")\n",
    "\n",
    "\n",
    "        \n"
   ]
  },
  {
   "cell_type": "markdown",
   "metadata": {},
   "source": []
  }
 ],
 "metadata": {
  "kernelspec": {
   "display_name": "Python 3.7.4 64-bit ('school': conda)",
   "language": "python",
   "name": "python3"
  },
  "language_info": {
   "codemirror_mode": {
    "name": "ipython",
    "version": 3
   },
   "file_extension": ".py",
   "mimetype": "text/x-python",
   "name": "python",
   "nbconvert_exporter": "python",
   "pygments_lexer": "ipython3",
   "version": "3.7.4"
  },
  "orig_nbformat": 4,
  "vscode": {
   "interpreter": {
    "hash": "9c12661a1f1bdf070d9a1c27b3120f841da7f1fa049dcfcc09f095dcd2a4f96d"
   }
  }
 },
 "nbformat": 4,
 "nbformat_minor": 2
}
