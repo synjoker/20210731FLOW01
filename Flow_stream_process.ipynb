{
 "cells": [
  {
   "cell_type": "code",
   "execution_count": 1,
   "metadata": {},
   "outputs": [
    {
     "name": "stdout",
     "output_type": "stream",
     "text": [
      "import success!\n"
     ]
    }
   ],
   "source": [
    "import numpy as np \n",
    "import cv2 as cv\n",
    "import queue, threading, time \n",
    "from configparser import ConfigParser\n",
    "from numpy.core.numeric import zeros_like\n",
    "import matplotlib.pyplot as plt\n",
    "import colorsys\n",
    "import math\n",
    "import random\n",
    "from vidgear.gears import VideoGear\n",
    "from vidgear.gears import WriteGear\n",
    "\n",
    "print(\"import success!\")"
   ]
  },
  {
   "cell_type": "code",
   "execution_count": 2,
   "metadata": {},
   "outputs": [
    {
     "name": "stdout",
     "output_type": "stream",
     "text": [
      "[[ 8.41470985e-01  9.09297427e-01  1.22464680e-16]\n",
      " [-7.56802495e-01 -9.58924275e-01 -2.79415498e-01]] [[ 0.54030231 -0.41614684 -1.        ]\n",
      " [-0.65364362  0.28366219  0.96017029]]\n"
     ]
    }
   ],
   "source": [
    "# 将矩阵中所有元素cos或者sin\n",
    "a1 = np.array([[1,2, math.pi],[4,5,6]])\n",
    "\n",
    "print(np.sin(a1), np.cos(a1))"
   ]
  },
  {
   "cell_type": "code",
   "execution_count": 3,
   "metadata": {},
   "outputs": [
    {
     "name": "stdout",
     "output_type": "stream",
     "text": [
      "(544, 592) (544, 592)\n",
      "2.1091604232788086 0.10282675359129945\n",
      "6.2831854820251465 3.062101394713542\n",
      "horizontalNoise is  -0.011222208609770735\n",
      "verticalNoise is  -0.0277624687950537\n",
      "horizontalAbsNoise is  0.060605622398516884\n",
      "verticalAbsNoise is  0.0684613424828138\n"
     ]
    }
   ],
   "source": [
    "# horizontal noise & vertical noise\n",
    "filepath = \"Save_20220401_121624\"\n",
    "mag = np.loadtxt(filepath + \"/mag.txt\")\n",
    "angle = np.loadtxt(filepath + \"/angle.txt\")\n",
    "print(mag.shape, angle.shape)\n",
    "print(np.max(mag), np.average(mag))\n",
    "print(np.max(angle), np.average(angle))\n",
    "# print(txtfile[550:600, 550:600])\n",
    "# 计算水平噪声和竖直噪声\n",
    "horizontalNoise = np.average(np.multiply(mag, np.sin(angle)))\n",
    "verticalNoise = np.average(np.multiply(mag, np.cos(angle)))\n",
    "# 绝对值计算水平噪声和竖直噪声\n",
    "horizontalAbsNoise = np.average(np.abs(np.multiply(mag, np.sin(angle))))\n",
    "verticalAbsNoise = np.average(np.abs(np.multiply(mag, np.cos(angle))))\n",
    "print(\"horizontalNoise is \", horizontalNoise)\n",
    "print(\"verticalNoise is \", verticalNoise)\n",
    "print(\"horizontalAbsNoise is \", horizontalAbsNoise)\n",
    "print(\"verticalAbsNoise is \", verticalAbsNoise)"
   ]
  },
  {
   "cell_type": "code",
   "execution_count": 4,
   "metadata": {},
   "outputs": [
    {
     "name": "stdout",
     "output_type": "stream",
     "text": [
      "d:\\Desktop\\BOS-PIV\\program\\20210731FLOW01\\tVariance_2022\n",
      "False\n"
     ]
    }
   ],
   "source": [
    "# read and save in Excel\n",
    "#第一步：调用pandas包\n",
    "timeNow = \"2022\"\n",
    "data = list(range(1, 100))\n",
    "# import pandas as pd\n",
    "import os\n",
    "import time\n",
    "import csv\n",
    "print(os.getcwd() + r\"\\tVariance_\" + timeNow)\n",
    "print(os.path.exists(os.getcwd() + r\"\\tVariance_\" + timeNow))\n",
    "# 第二步：读取数据\n",
    "if not os.path.exists(os.getcwd() + r\"\\tVariance_\" + timeNow):\n",
    "    os.makedirs(\"tVariance_\" + timeNow)\n",
    "with open(\"tVariance_\" + timeNow + '/test1.csv','w',newline='')as csv_file:\n",
    "    # 获取一个csv对象进行内容写入\n",
    "    writer=csv.writer(csv_file)\n",
    "    for row in data:\n",
    "        # writerow 写入一行数据\n",
    "        writer.writerow(['xlsx', row])"
   ]
  }
 ],
 "metadata": {
  "kernelspec": {
   "display_name": "Python 3",
   "language": "python",
   "name": "python3"
  },
  "language_info": {
   "codemirror_mode": {
    "name": "ipython",
    "version": 3
   },
   "file_extension": ".py",
   "mimetype": "text/x-python",
   "name": "python",
   "nbconvert_exporter": "python",
   "pygments_lexer": "ipython3",
   "version": "3.7.4 (default, Aug  9 2019, 18:34:13) [MSC v.1915 64 bit (AMD64)]"
  },
  "orig_nbformat": 4,
  "vscode": {
   "interpreter": {
    "hash": "9c12661a1f1bdf070d9a1c27b3120f841da7f1fa049dcfcc09f095dcd2a4f96d"
   }
  }
 },
 "nbformat": 4,
 "nbformat_minor": 2
}
