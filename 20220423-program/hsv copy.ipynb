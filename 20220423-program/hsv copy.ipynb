{
 "cells": [
  {
   "cell_type": "code",
   "execution_count": null,
   "metadata": {},
   "outputs": [],
   "source": [
    "#hsv transform to rgb format\n",
    "def hsv2rgb(h,s,v):\n",
    "    return tuple(round(i * 255) for i in colorsys.hsv_to_rgb(h,s,v))\n",
    "\n",
    "bgr_pre = cv.cvtColor(frame_pre, cv.COLOR_BGR2GRAY)\n",
    "# initial hsv\n",
    "hsv = np.zeros_like(\n",
    "    frame_pre[\n",
    "    solution['roi_rect'][2]+para['Noffset']:\n",
    "    solution['roi_rect'][3]-para['Noffset'],\n",
    "    solution['roi_rect'][0]+para['Noffset']:\n",
    "    solution['roi_rect'][1]-para['Noffset']])  \n",
    "hsv[...,1] = 255 #saturation is full\n",
    "blank = np.zeros_like(frame_pre)\n",
    "\n",
    " mag, ang = cv.cartToPolar(flow[...,0], flow[...,1])  # orginal flow\n",
    "        mag = mag[para['Noffset']:mag.shape[0]-para['Noffset'], para['Noffset']:(mag.shape[1]-para['Noffset'])]\n",
    "        ang = ang[para['Noffset']:ang.shape[0]-para['Noffset'], para['Noffset']:(ang.shape[1]-para['Noffset'])]\n",
    "        mag_mean = cv.mean(mag)[0]\n",
    "        mag_sft = abs(mag - mag_mean)  # shifted magnitude to elimiate noise\n",
    "        \n",
    "        mag_enhanced = zeros_like(mag_sft)\n",
    "        cv.min(mag_sft,para['mag_ceiling'],mag_enhanced)  # enhance flow, ceiling and flooring\n",
    "        cv.max(mag_enhanced,para['mag_floor'],mag_enhanced)\n",
    "        hsv[...,0] = (ang + para['hue'])*180/np.pi/2 # color space related to angle \n",
    "        hsv[...,2] = cv.normalize(mag_enhanced,None,0,255,cv.NORM_MINMAX)\n",
    "        bgr_flow_enhanced = cv.cvtColor(hsv,cv.COLOR_HSV2BGR)\n",
    "                \n",
    "        # image emerge with enhanced flow\n",
    "        flow_blend_enhance = cv.addWeighted(frame_cur[solution['roi_rect'][2]+para['Noffset']:solution['roi_rect'][3]-para['Noffset'],solution['roi_rect'][0]+para['Noffset']:solution['roi_rect'][1]-para['Noffset']], 1-para['alpha'] ,bgr_flow_enhanced,  para['alpha'], 0)\n",
    "        frame_blend = cv.addWeighted(frame_cur, 1-para['alpha'] ,blank,  para['alpha'], 0)#frame_cur.copy()\n",
    "        frame_blend[solution['roi_rect'][2]+para['Noffset']:solution['roi_rect'][3]-para['Noffset'],solution['roi_rect'][0]+para['Noffset']:solution['roi_rect'][1]-para['Noffset']] = flow_blend_enhance\n",
    "  "
   ]
  }
 ],
 "metadata": {
  "kernelspec": {
   "display_name": "Python 3.7.4 64-bit ('school': conda)",
   "language": "python",
   "name": "python3"
  },
  "language_info": {
   "name": "python",
   "version": "3.7.4"
  },
  "orig_nbformat": 4,
  "vscode": {
   "interpreter": {
    "hash": "9c12661a1f1bdf070d9a1c27b3120f841da7f1fa049dcfcc09f095dcd2a4f96d"
   }
  }
 },
 "nbformat": 4,
 "nbformat_minor": 2
}
