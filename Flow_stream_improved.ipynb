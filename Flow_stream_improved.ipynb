{
 "cells": [
  {
   "cell_type": "code",
   "execution_count": 1,
   "metadata": {},
   "outputs": [
    {
     "name": "stdout",
     "output_type": "stream",
     "text": [
      "import success!\n"
     ]
    }
   ],
   "source": [
    "#Flow\n",
    "# problems: 1. video lag 2. stream end 3. anti-shake 4. simulation of the method \n",
    "# refresh parameters 1. change in 'parameters.ini' 2. press 'r'\n",
    "# to do log information, max position and angle, average angle\n",
    "import numpy as np \n",
    "import cv2 as cv\n",
    "import queue, threading, time \n",
    "from configparser import ConfigParser\n",
    "from numpy.core.numeric import zeros_like\n",
    "import matplotlib.pyplot as plt\n",
    "import colorsys\n",
    "import math\n",
    "import random\n",
    "from vidgear.gears import VideoGear\n",
    "from vidgear.gears import WriteGear\n",
    "import datetime\n",
    "from mpl_toolkits.mplot3d import Axes3D\n",
    "\n",
    "print(\"import success!\")"
   ]
  },
  {
   "cell_type": "markdown",
   "metadata": {},
   "source": [
    "#### 初始化参数"
   ]
  },
  {
   "cell_type": "code",
   "execution_count": 2,
   "metadata": {},
   "outputs": [
    {
     "name": "stdout",
     "output_type": "stream",
     "text": [
      "initiation success\n"
     ]
    }
   ],
   "source": [
    "# 注意winsize、roi_region、结构的大小比例、结构的密度、结构和winsize的比例\n",
    "\n",
    "# hsv transform to rgb format\n",
    "def hsv2rgb(h,s,v):\n",
    "    return tuple(round(i * 255) for i in colorsys.hsv_to_rgb(h,s,v))\n",
    "\n",
    "#control parameters\n",
    "is_save_stream = False\n",
    "is_ref_refresh = False\n",
    "is_anti_shake = False\n",
    "\n",
    "# default parameters  \n",
    "# calculation parameters\n",
    "winsize = 64\n",
    "mag_ceiling = 0.5\n",
    "mag_floor = mag_ceiling/5\n",
    "\n",
    "# camer & image parameters\n",
    "alpha = 0.8 \n",
    "hue = 90                     \n",
    "RES = (2592, 1944)                 # camera resolution\n",
    "# RES = (1920, 1080)\n",
    "roi_rect = [0, RES[0], 0, RES[1]]\n",
    "# roi_rect = [0+1000,RES[0]-1000,0+700,RES[1]-700]  # region of interesting\n",
    "# roi_rect = [int(RES[0]*0.4), int(RES[0]*0.6), int(RES[1]*0.4), int(RES[1]*0.6)]\n",
    "\n",
    "result_RES = (640, 480)         # flow image resolution\n",
    "\n",
    "# stable calculation parameters\n",
    "pyr_scale = 0.5\n",
    "levels = 2\n",
    "iterations = 1\n",
    "poly_n = 5\n",
    "poly_sigma = 1.1\n",
    "flags = cv.OPTFLOW_FARNEBACK_GAUSSIAN\n",
    "\n",
    "# drawing buffer\n",
    "ax = []\n",
    "ay1 = []\n",
    "ay2 = []\n",
    "\n",
    "# formatting parameters as dictionary attributes\n",
    "options = {\"CAP_PROP_FRAME_WIDTH\":2592, \"CAP_PROP_FRAME_HEIGHT\":1944, \"CAP_PROP_FPS\":30}\n",
    "\n",
    "print(\"initiation success\")"
   ]
  },
  {
   "cell_type": "code",
   "execution_count": 3,
   "metadata": {},
   "outputs": [
    {
     "name": "stdout",
     "output_type": "stream",
     "text": [
      "[0, 2592, 0, 1944]\n"
     ]
    }
   ],
   "source": [
    "print(roi_rect)"
   ]
  },
  {
   "cell_type": "code",
   "execution_count": 4,
   "metadata": {},
   "outputs": [
    {
     "name": "stdout",
     "output_type": "stream",
     "text": [
      "stream start!\n"
     ]
    }
   ],
   "source": [
    "# 水平噪声、数值噪声\n",
    "# stream = VideoGear(source=1, resolution=RES, stabilize = True).start()\n",
    "stream = VideoGear(source=1, resolution=RES, stabilize = True, **options).start()\n",
    "\n",
    "print(\"stream start!\")"
   ]
  },
  {
   "cell_type": "markdown",
   "metadata": {},
   "source": [
    "#### 相机参数、图片设置"
   ]
  },
  {
   "cell_type": "code",
   "execution_count": 5,
   "metadata": {},
   "outputs": [
    {
     "name": "stdout",
     "output_type": "stream",
     "text": [
      "begin stream!\n",
      "video resolution is (height, width, channel) :  (1944, 2592, 3)\n"
     ]
    }
   ],
   "source": [
    "# pre-read frame\n",
    "frame_pre = stream.read()\n",
    "bgr_pre = cv.cvtColor(frame_pre, cv.COLOR_BGR2GRAY)\n",
    "\n",
    "# initial hsv\n",
    "hsv = np.zeros_like(frame_pre[roi_rect[2]:roi_rect[3],roi_rect[0]:roi_rect[1]])  \n",
    "hsv[...,1] = 255 #saturation is full\n",
    "blank = np.zeros_like(frame_pre)\n",
    "\n",
    "# video loop\n",
    "count = 0\n",
    "print(\"begin stream!\")\n",
    "print(\"video resolution is (height, width, channel) : \",frame_pre.shape)"
   ]
  },
  {
   "cell_type": "code",
   "execution_count": 6,
   "metadata": {},
   "outputs": [],
   "source": [
    "# frame_cur = stream.read()\n",
    "# bgr_cur = cv.cvtColor(frame_cur, cv.COLOR_BGR2GRAY) # change in to gray\n",
    "\n",
    "# roi_bgr_pre = bgr_pre[roi_rect[2]:roi_rect[3],roi_rect[0]:roi_rect[1]]\n",
    "# roi_bgr_cur = bgr_cur[roi_rect[2]:roi_rect[3],roi_rect[0]:roi_rect[1]]\n",
    "\n",
    "# # calculate flow\n",
    "# flow = cv.calcOpticalFlowFarneback(roi_bgr_pre,roi_bgr_cur, None,\n",
    "#                                 pyr_scale,\n",
    "#                                 levels,\n",
    "#                                 winsize,\n",
    "#                                 iterations,\n",
    "#                                 poly_n,\n",
    "#                                 poly_sigma,\n",
    "#                                 flags)\n",
    "# mag, ang = cv.cartToPolar(flow[...,0], flow[...,1])  # orginal flow\n",
    "\n",
    "# print(mag.shape, ang.shape)\n",
    "# print(roi_bgr_pre.shape, roi_bgr_cur.shape)"
   ]
  },
  {
   "cell_type": "code",
   "execution_count": 7,
   "metadata": {},
   "outputs": [],
   "source": [
    "# print(roi_rect[2], roi_rect[3], roi_rect[0], roi_rect[1])"
   ]
  },
  {
   "cell_type": "code",
   "execution_count": 8,
   "metadata": {},
   "outputs": [
    {
     "ename": "KeyboardInterrupt",
     "evalue": "",
     "output_type": "error",
     "traceback": [
      "\u001b[1;31m---------------------------------------------------------------------------\u001b[0m",
      "\u001b[1;31mKeyboardInterrupt\u001b[0m                         Traceback (most recent call last)",
      "\u001b[1;32m~\\AppData\\Local\\Temp/ipykernel_125840/2407951826.py\u001b[0m in \u001b[0;36m<module>\u001b[1;34m\u001b[0m\n\u001b[0;32m     18\u001b[0m     \u001b[0mmag\u001b[0m\u001b[1;33m,\u001b[0m \u001b[0mang\u001b[0m \u001b[1;33m=\u001b[0m \u001b[0mcv\u001b[0m\u001b[1;33m.\u001b[0m\u001b[0mcartToPolar\u001b[0m\u001b[1;33m(\u001b[0m\u001b[0mflow\u001b[0m\u001b[1;33m[\u001b[0m\u001b[1;33m...\u001b[0m\u001b[1;33m,\u001b[0m\u001b[1;36m0\u001b[0m\u001b[1;33m]\u001b[0m\u001b[1;33m,\u001b[0m \u001b[0mflow\u001b[0m\u001b[1;33m[\u001b[0m\u001b[1;33m...\u001b[0m\u001b[1;33m,\u001b[0m\u001b[1;36m1\u001b[0m\u001b[1;33m]\u001b[0m\u001b[1;33m)\u001b[0m  \u001b[1;31m# orginal flow\u001b[0m\u001b[1;33m\u001b[0m\u001b[1;33m\u001b[0m\u001b[0m\n\u001b[0;32m     19\u001b[0m \u001b[1;33m\u001b[0m\u001b[0m\n\u001b[1;32m---> 20\u001b[1;33m     \u001b[0mmag_mean\u001b[0m \u001b[1;33m=\u001b[0m \u001b[0mcv\u001b[0m\u001b[1;33m.\u001b[0m\u001b[0mmean\u001b[0m\u001b[1;33m(\u001b[0m\u001b[0mmag\u001b[0m\u001b[1;33m)\u001b[0m\u001b[1;33m[\u001b[0m\u001b[1;36m0\u001b[0m\u001b[1;33m]\u001b[0m\u001b[1;33m\u001b[0m\u001b[1;33m\u001b[0m\u001b[0m\n\u001b[0m\u001b[0;32m     21\u001b[0m     \u001b[0mmag_sft\u001b[0m \u001b[1;33m=\u001b[0m \u001b[0mabs\u001b[0m\u001b[1;33m(\u001b[0m\u001b[0mmag\u001b[0m \u001b[1;33m-\u001b[0m \u001b[0mmag_mean\u001b[0m\u001b[1;33m)\u001b[0m  \u001b[1;31m# shifted magnitude to elimiate noise\u001b[0m\u001b[1;33m\u001b[0m\u001b[1;33m\u001b[0m\u001b[0m\n\u001b[0;32m     22\u001b[0m     \u001b[0mhsv\u001b[0m\u001b[1;33m[\u001b[0m\u001b[1;33m...\u001b[0m\u001b[1;33m,\u001b[0m\u001b[1;36m0\u001b[0m\u001b[1;33m]\u001b[0m \u001b[1;33m=\u001b[0m \u001b[1;33m(\u001b[0m\u001b[0mang\u001b[0m \u001b[1;33m+\u001b[0m \u001b[0mhue\u001b[0m\u001b[1;33m)\u001b[0m\u001b[1;33m*\u001b[0m\u001b[1;36m180\u001b[0m\u001b[1;33m/\u001b[0m\u001b[0mnp\u001b[0m\u001b[1;33m.\u001b[0m\u001b[0mpi\u001b[0m\u001b[1;33m/\u001b[0m\u001b[1;36m2\u001b[0m \u001b[1;31m# color space related to angle\u001b[0m\u001b[1;33m\u001b[0m\u001b[1;33m\u001b[0m\u001b[0m\n",
      "\u001b[1;31mKeyboardInterrupt\u001b[0m: "
     ]
    }
   ],
   "source": [
    "while(True):\n",
    "# read current frame from cap\n",
    "    frame_cur = stream.read()\n",
    "    bgr_cur = cv.cvtColor(frame_cur, cv.COLOR_BGR2GRAY) # change in to gray\n",
    "\n",
    "    roi_bgr_pre = bgr_pre[roi_rect[2]:roi_rect[3],roi_rect[0]:roi_rect[1]]\n",
    "    roi_bgr_cur = bgr_cur[roi_rect[2]:roi_rect[3],roi_rect[0]:roi_rect[1]]\n",
    "\n",
    "    # calculate flow\n",
    "    flow = cv.calcOpticalFlowFarneback(roi_bgr_pre,roi_bgr_cur, None,\n",
    "                                    pyr_scale,\n",
    "                                    levels,\n",
    "                                    winsize,\n",
    "                                    iterations,\n",
    "                                    poly_n,\n",
    "                                    poly_sigma,\n",
    "                                    flags)\n",
    "    mag, ang = cv.cartToPolar(flow[...,0], flow[...,1])  # orginal flow\n",
    "  \n",
    "    mag_mean = cv.mean(mag)[0]\n",
    "    mag_sft = abs(mag - mag_mean)  # shifted magnitude to elimiate noise\n",
    "    hsv[...,0] = (ang + hue)*180/np.pi/2 # color space related to angle \n",
    "    hsv[...,2] = cv.normalize(mag_sft,None,0,255,cv.NORM_MINMAX) \n",
    "    \n",
    "    #enhanced flow\n",
    "    bgr_flow = cv.cvtColor(hsv,cv.COLOR_HSV2BGR)\n",
    "    mag_enhanced = zeros_like(mag_sft)\n",
    "    cv.min(mag_sft,mag_ceiling,mag_enhanced)  # enhance flow, ceiling and flooring\n",
    "    cv.max(mag_enhanced,mag_floor,mag_enhanced)\n",
    "    hsv[...,0] = (ang + hue)*180/np.pi/2 # color space related to angle \n",
    "    hsv[...,2] = cv.normalize(mag_enhanced,None,0,255,cv.NORM_MINMAX)\n",
    "    bgr_flow_enhanced = cv.cvtColor(hsv,cv.COLOR_HSV2BGR)\n",
    "    \n",
    "    # image emerge with enhanced flow\n",
    "    flow_blend_enhance = cv.addWeighted(frame_cur[roi_rect[2]:roi_rect[3],roi_rect[0]:roi_rect[1]], 1-alpha ,bgr_flow_enhanced,  alpha, 0)\n",
    "    bgr_blend = cv.addWeighted(frame_cur[roi_rect[2]:roi_rect[3],roi_rect[0]:roi_rect[1]], 1-alpha ,bgr_flow,  alpha, 0)\n",
    "    frame_blend = cv.addWeighted(frame_cur, 1-alpha ,blank,  alpha, 0)#frame_cur.copy()\n",
    "    frame_blend[roi_rect[2]:roi_rect[3],roi_rect[0]:roi_rect[1]] = flow_blend_enhance\n",
    "    \n",
    "    # if ture, compare image is  successive; if false, compare image is not change\n",
    "    if is_ref_refresh:\n",
    "      bgr_pre = bgr_cur\n",
    "  \n",
    "    #palette\n",
    "    palette=np.zeros((512,512,3),np.uint8)\n",
    "    mag_norm = cv.normalize(mag,None,0,255,cv.NORM_MINMAX)\n",
    "    mag_min,mag_max,min_indx,max_indx=cv.minMaxLoc(mag)\n",
    "    ang_mean = cv.mean(ang*mag/mag_mean)[0]\n",
    "    for k in range(600):\n",
    "        i = random.randrange(0,len(mag))\n",
    "        j = random.randrange(0,len(mag[0]))\n",
    "        angle = ang[i][j]\n",
    "        magnitude = abs(mag[i][j]*100)\n",
    "        if(magnitude<10000 and mag_mean < 10000):\n",
    "            x = int(magnitude*math.cos(angle))+256\n",
    "            y = int(magnitude*math.sin(angle))+256\n",
    "            cv.circle(palette,(x,y),int(magnitude/10),hsv2rgb((angle+math.pi)/math.pi/2, mag_norm[i][j]/255,1),-1)\n",
    "    cv.circle(palette,(256,256),int(1.0*100),hsv2rgb((angle+math.pi)/math.pi/2, mag_norm[i][j]/255,1),3)\n",
    "    cv.circle(palette,(256,256),int(mag_ceiling*100),hsv2rgb((angle+math.pi)/math.pi/2, mag_norm[i][j]/255,2),1)\n",
    "    cv.circle(palette,(256,256),int(mag_floor*100),hsv2rgb((angle+math.pi)/math.pi/2, mag_norm[i][j]/255,1),1)\n",
    "    cv.line(palette,(256,256),(int(100*math.cos(ang_mean))+256, int(100*math.sin(ang_mean))+256),(0,255,0),3)\n",
    "    cv.line(palette,(256,256),(int(50*math.cos(ang[max_indx[1],max_indx[0]]))+256, int(50*math.sin(ang[max_indx[1],max_indx[0]])) +256 ),(255,0,0),3)\n",
    "    cv.putText(palette, \"max=\"+str(mag.max()), (0, 30), cv.FONT_HERSHEY_SIMPLEX, 1.2, (255, 255, 255), 2)\n",
    "    cv.putText(palette, \"mag_mean=\"+str(\"%.2f\"%mag_mean), (0, 60), cv.FONT_HERSHEY_SIMPLEX, 1.2, (255, 255, 255), 2)\n",
    "    cv.putText(palette, \"mag_max=\"+str(mag_ceiling), (0, 90), cv.FONT_HERSHEY_SIMPLEX, 1.2, (255, 255, 255), 2)\n",
    "    cv.putText(palette, \"mag_min=\"+str(mag_floor), (0, 120), cv.FONT_HERSHEY_SIMPLEX, 1.2, (255, 255, 255), 2)\n",
    "    cv.rectangle(frame_blend, (roi_rect[0], roi_rect[2]), (roi_rect[1], roi_rect[3]), (0,255,0), 2)\n",
    "    \n",
    "    count = count + 1\n",
    " \n",
    "    # result flow image\n",
    "    cv.imshow('Orignal',cv.resize(frame_cur, (result_RES[0], result_RES[1])))\n",
    "    cv.imshow('Area of Intrest Blended', cv.resize(frame_blend  , (result_RES[0], result_RES[1])))\n",
    "    cv.imshow(\"Palette\", palette)\n",
    "    cv.imshow('Blender', cv.resize(bgr_blend , (result_RES[0], result_RES[1])))\n",
    "    #cv.imshow('Blender_enhanced', bgr_blend_enhance)\n",
    "    #cv.imshow('Flow', cv.resize(bgr_flow , (result_RES[0], result_RES[1])))\n",
    "    \n",
    "    \n",
    "    \n",
    "    import os\n",
    "    # if input key 'r', refresh compare image\n",
    "    key = cv.waitKey(10)\n",
    "    if key==114:\n",
    "        #打印时间戳保存\n",
    "        timeNow = datetime.datetime.now().strftime(\"%Y%m%d_%H%M%S\")\n",
    "        os.makedirs(\"Refresh_\" + timeNow)\n",
    "        \n",
    "        bgr_pre = bgr_cur\n",
    "        print(\"the image is refreshed\")\n",
    "        cv.imwrite(\"Refresh_\" + timeNow +'/Orignal.jpg',frame_cur)\n",
    "        cv.imwrite(\"Refresh_\" + timeNow +'/Area_of_Intrest_Blended.jpg', frame_blend)\n",
    "        cv.imwrite(\"Refresh_\" + timeNow +\"/Palette.jpg\", palette)\n",
    "        cv.imwrite(\"Refresh_\" + timeNow +'/Blender.jpg', bgr_blend)\n",
    "    # if input key 's', refresh compare image\n",
    "    if key==115:\n",
    "        # 绘制magnitude图片\n",
    "        # print(\"mag.shape: \", np.shape(mag))\n",
    "        # fig = plt.figure()\n",
    "        # ax3 = plt.axes(projection='3d')\n",
    "        # # 大小需随机定制\n",
    "        # xx = np.arange(0, mag.shape[1], 1)\n",
    "        # yy = np.arange(0, mag.shape[0], 1)\n",
    "        # X, Y =np.meshgrid(xx, yy)\n",
    "        # Z = np.sin(X)+np.cos(Y)\n",
    "        # print(\"Z.shape: \", np.shape(Z))\n",
    "        # ax3.plot_surface(X,Y,mag, cmap='rainbow')\n",
    "        # #ax3.plot_surface(X, Y, mag, cmap='rainbow')\n",
    "        # plt.show()\n",
    "        # 保存信息\n",
    "        timeNow = datetime.datetime.now().strftime(\"%Y%m%d_%H%M%S\")\n",
    "        os.makedirs(\"Save_\" + timeNow)\n",
    "        np.savetxt(\"Save_\" + timeNow +\"/mag.txt\", mag)\n",
    "        np.savetxt(\"Save_\" + timeNow +\"/angle.txt\", ang)\n",
    "        cv.imwrite(\"Save_\" + timeNow +'/Orignal.jpg',frame_cur)\n",
    "        cv.imwrite(\"Save_\" + timeNow +'/Area_of_Interest_Blended.jpg', frame_blend)\n",
    "        cv.imwrite(\"Save_\" + timeNow +\"/Palette.jpg\", palette)\n",
    "        cv.imwrite(\"Save_\" + timeNow +'/Blender.jpg', bgr_blend)\n",
    "        print(\"the image is saved\")"
   ]
  }
 ],
 "metadata": {
  "kernelspec": {
   "display_name": "Python 3.7.4 64-bit",
   "language": "python",
   "name": "python3"
  },
  "language_info": {
   "codemirror_mode": {
    "name": "ipython",
    "version": 3
   },
   "file_extension": ".py",
   "mimetype": "text/x-python",
   "name": "python",
   "nbconvert_exporter": "python",
   "pygments_lexer": "ipython3",
   "version": "3.7.4"
  },
  "orig_nbformat": 4,
  "vscode": {
   "interpreter": {
    "hash": "9c12661a1f1bdf070d9a1c27b3120f841da7f1fa049dcfcc09f095dcd2a4f96d"
   }
  }
 },
 "nbformat": 4,
 "nbformat_minor": 2
}
